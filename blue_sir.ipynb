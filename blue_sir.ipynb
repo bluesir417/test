{
 "cells": [
  {
   "cell_type": "code",
   "execution_count": 1,
   "metadata": {},
   "outputs": [],
   "source": [
    "import numpy as np\n",
    "from skimage import io\n",
    "from skimage import transform\n",
    "import matplotlib.pyplot as plt\n",
    "import torch.nn.functional as F\n",
    "import os\n",
    "import torch\n",
    "import torch.nn as nn\n",
    "import torchvision\n",
    "from torch.utils.data import Dataset, DataLoader\n",
    "from torchvision.transforms import transforms\n",
    "from PIL import Image\n",
    "import torch.optim as optim\n"
   ]
  },
  {
   "cell_type": "code",
   "execution_count": 2,
   "metadata": {},
   "outputs": [],
   "source": [
    "class Net(nn.Module):\n",
    "    def __init__(self):\n",
    "        super(Net,self).__init__()\n",
    "        self.conv1 = nn.Conv2d(1,32,5)\n",
    "        self.pool =  nn.MaxPool2d(2, 2)\n",
    "        self.conv2 = nn.Conv2d(32,16,3)\n",
    "        \n",
    "        self.fc1 = nn.Linear(16*10*10,256)\n",
    "        self.fc2 = nn.Linear(256,10)\n",
    "\n",
    "    \n",
    "    def forward(self,x):\n",
    "        x = self.pool(F.relu(self.conv1(x)))\n",
    "        #32*24*24      32*12*12\n",
    "        x = F.relu(self.conv2(x))\n",
    "        #16*10*10 \n",
    "        x = x.view(-1,16*10*10)\n",
    "        x = self.fc1(x)\n",
    "        x = F.relu(x)\n",
    "        x = self.fc2(x)\n",
    "        \n",
    "        \n",
    "        return x"
   ]
  },
  {
   "cell_type": "code",
   "execution_count": 3,
   "metadata": {},
   "outputs": [],
   "source": [
    "class MY_MNIST(Dataset):\n",
    "    training_file = 'training.pt'\n",
    "    test_file = 'test.pt'\n",
    "    def __init__(self, root, transform=None,target_transform=None):\n",
    "        self.target_transform = target_transform\n",
    "        self.transform = transform\n",
    "        self.data, self.targets = torch.load(root)\n",
    "    \n",
    "    def __getitem__(self, index):\n",
    "        img, target = self.data[index], int(self.targets[index])\n",
    "        img = Image.fromarray(img.numpy(), mode='L')\n",
    "        if self.transform is not None:\n",
    "            img = self.transform(img)\n",
    "\n",
    "        if self.target_transform is not None:\n",
    "            target = self.target_transform(target)\n",
    "\n",
    "        return img, target\n",
    "    def __len__(self) :\n",
    "        return len(self.data)"
   ]
  },
  {
   "cell_type": "code",
   "execution_count": 4,
   "metadata": {},
   "outputs": [],
   "source": [
    "transform = transforms.Compose([transforms.ToTensor(), transforms.Normalize((0.5,), (0.5,))])\n",
    "\n",
    "train_loader = MY_MNIST(root='./mnist/MNIST/processed/training.pt', transform=transform )\n",
    "test_loader = MY_MNIST(root='./mnist/MNIST/processed/test.pt', transform= transform)\n"
   ]
  },
  {
   "cell_type": "code",
   "execution_count": 5,
   "metadata": {},
   "outputs": [],
   "source": [
    "train_dataloader = DataLoader(dataset=train_loader,\n",
    "                                 batch_size=40,\n",
    "                                 shuffle=True,\n",
    "                                 num_workers=4)\n",
    "test_dataloader = DataLoader(dataset=test_loader,\n",
    "                                 batch_size=40,\n",
    "                                 shuffle=True,\n",
    "                                 num_workers=4)"
   ]
  },
  {
   "cell_type": "code",
   "execution_count": 6,
   "metadata": {},
   "outputs": [],
   "source": [
    "DEVICE = torch.device(\"cuda\" if torch.cuda.is_available() else \"cpu\")\n",
    "net = Net().to(DEVICE)\n",
    "\n",
    "\n",
    "criterion = nn.CrossEntropyLoss()\n",
    "optimizer = optim.SGD(net.parameters(), lr=0.001, momentum=0.9)"
   ]
  },
  {
   "cell_type": "code",
   "execution_count": 7,
   "metadata": {},
   "outputs": [],
   "source": [
    "#训练\n",
    "\n",
    "def train_net(net, device, train_dataloader,optimizer, epoch):\n",
    "    net.train()\n",
    "    \n",
    "    for i,(img,target) in enumerate(train_dataloader,0):\n",
    "        img,target = img.to(device),target.to(device)\n",
    "        optimizer.zero_grad()\n",
    "        outputs = net(img)\n",
    "        loss =  criterion(outputs,target)\n",
    "        loss.backward()     \n",
    "        optimizer.step()\n",
    "        if i % 3000 == 0:\n",
    "            print(\"Train Epoch : {} \\t Loss : {:.6f}\".format(epoch, loss.item()))\n"
   ]
  },
  {
   "cell_type": "code",
   "execution_count": 8,
   "metadata": {},
   "outputs": [],
   "source": [
    "def test_net(net,device,test_dataloader):\n",
    "    net.eval()\n",
    "    correct = 0.0\n",
    "    global Accuracy\n",
    "    \n",
    "    test_loss = 0.0\n",
    "    \n",
    "    with torch.no_grad():\n",
    "        for img,target in test_dataloader:\n",
    "            \n",
    "            img,target = img.to(device), target.to(device)\n",
    "            outputs = net(img)\n",
    "            \n",
    "            test_loss += F.cross_entropy(outputs,target).item()\n",
    "            # 找到概率值最大的下标\n",
    "            pred = outputs.max(1, keepdim=True)[1]\n",
    "            #pred = torch.max(output, dim=1)\n",
    "            # pred = output.argmax(dim=1)\n",
    "            # 累计正确的值\n",
    "            correct += pred.eq(target.view_as(pred)).sum().item()\n",
    "            Accuracy = correct/len(test_dataloader.dataset)*100.0\n",
    "        test_loss /= len(test_dataloader.dataset)\n",
    "        print(\"Test -- Average Loss : {:.4f}, Accuracy : {:.3f}\\n\".format(test_loss,Accuracy ))\n",
    "        "
   ]
  },
  {
   "cell_type": "code",
   "execution_count": 9,
   "metadata": {},
   "outputs": [
    {
     "name": "stdout",
     "output_type": "stream",
     "text": [
      "Train Epoch : 1 \t Loss : 2.296911\n",
      "Test -- Average Loss : 0.0052, Accuracy : 93.980\n",
      "\n",
      "Train Epoch : 2 \t Loss : 0.199567\n",
      "Test -- Average Loss : 0.0027, Accuracy : 96.820\n",
      "\n",
      "Train Epoch : 3 \t Loss : 0.039616\n",
      "Test -- Average Loss : 0.0018, Accuracy : 97.820\n",
      "\n",
      "Train Epoch : 4 \t Loss : 0.025680\n",
      "Test -- Average Loss : 0.0015, Accuracy : 98.180\n",
      "\n",
      "Train Epoch : 5 \t Loss : 0.018837\n",
      "Test -- Average Loss : 0.0013, Accuracy : 98.330\n",
      "\n"
     ]
    }
   ],
   "source": [
    "accuracy_values = []\n",
    "for epoch in range(1, 6):\n",
    "    train_net(net,DEVICE,train_dataloader, optimizer,epoch)\n",
    "    test_net(net,DEVICE,test_dataloader)  \n",
    "    \n",
    "    accuracy_values.append(Accuracy)\n",
    "    "
   ]
  },
  {
   "cell_type": "code",
   "execution_count": 10,
   "metadata": {},
   "outputs": [
    {
     "data": {
      "image/png": "[encoded data removed]",
      "text/plain": [
       "<Figure size 800x600 with 1 Axes>"
      ]
     },
     "metadata": {},
     "output_type": "display_data"
    }
   ],
   "source": [
    "import matplotlib.pyplot as plt\n",
    "\n",
    "epochs = [1, 2, 3, 4, 5]\n",
    "# Create the plot\n",
    "plt.figure(figsize=(8, 6))\n",
    "plt.plot(epochs, accuracy_values, marker='o', linestyle='-', color='b')\n",
    "plt.title('Epoch & accuracy')\n",
    "plt.xlabel('Epoch')\n",
    "plt.ylabel('Accuracy')\n",
    "plt.grid(True)\n",
    "plt.show()"
   ]
  }
 ],
 "metadata": {
  "kernelspec": {
   "display_name": "d2l",
   "language": "python",
   "name": "python3"
  },
  "language_info": {
   "codemirror_mode": {
    "name": "ipython",
    "version": 3
   },
   "file_extension": ".py",
   "mimetype": "text/x-python",
   "name": "python",
   "nbconvert_exporter": "python",
   "pygments_lexer": "ipython3",
   "version": "3.9.18"
  }
 },
 "nbformat": 4,
 "nbformat_minor": 2
}
